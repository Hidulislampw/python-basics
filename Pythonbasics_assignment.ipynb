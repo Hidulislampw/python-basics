{
  "nbformat": 4,
  "nbformat_minor": 0,
  "metadata": {
    "colab": {
      "provenance": []
    },
    "kernelspec": {
      "name": "python3",
      "display_name": "Python 3"
    },
    "language_info": {
      "name": "python"
    }
  },
  "cells": [
    {
      "cell_type": "code",
      "execution_count": null,
      "metadata": {
        "id": "nqMiGgzRH09-"
      },
      "outputs": [],
      "source": []
    },
    {
      "cell_type": "markdown",
      "source": [
        "# THEORY QUESTIONS"
      ],
      "metadata": {
        "id": "6TUuWEtgxLzN"
      }
    },
    {
      "cell_type": "markdown",
      "source": [
        "1.  What is Python, and why is it popular?\n",
        "\n",
        "Ans 1. Python is a high-level, interpreted programming language known for its simplicity and readability. It was created by Guido van Rossum and first released in 1991. Python follows an easy-to-read syntax that makes it a great choice for beginners and professionals alike.\n",
        "\n",
        "Python is popular due to its simple and readable syntax, making it easy to learn and use for both beginners and professionals. It is a versatile, multipurpose language widely used in web development, data science, AI, automation, and more. Python boasts alarge standard library that provides built-in support for various functionalities, reducing the need for additional code. Its strong community support ensures extensive documentation, tutorials, and open-source libraries like NumPy, TensorFlow etc. Being cross-platform compatible, Python runs on Windows, macOS, and Linux.  Its ease of use, wide application, and strong industry adoption make Python one of the most popular programming languages today."
      ],
      "metadata": {
        "id": "WDo4oEIHH6fV"
      }
    },
    {
      "cell_type": "markdown",
      "source": [],
      "metadata": {
        "id": "BGdUTFj7JFwB"
      }
    },
    {
      "cell_type": "code",
      "source": [],
      "metadata": {
        "id": "tELXy9WAKwhs"
      },
      "execution_count": null,
      "outputs": []
    },
    {
      "cell_type": "markdown",
      "source": [
        "2.  What is an interpreter in Python ?\n",
        "\n",
        "Ans 2. An interpreter in Python is a program that executes Python code line by line instead of compiling the entire code at once. Unlike compiled languages, where the code is converted into machine code before execution, Python's interpreter runs the code directly, making debugging and testing easier. This allows for faster development, easier debugging, and cross-platform compatibility.\n",
        "\n",
        "\n"
      ],
      "metadata": {
        "id": "pm4GKHZLJ7Si"
      }
    },
    {
      "cell_type": "code",
      "source": [
        "# An example for using interpreter is as follows:\n",
        "print(\"Hello, World!\")\n",
        "x = 10 + 5\n",
        "print(\"The sum is:\", x)\n",
        "# If we run the file using the Python interpreter in the terminal or command prompt:\n",
        "python test.py\n",
        "#The output will be:\n",
        "Hello, World!\n",
        "The sum is: 15\n",
        "\n"
      ],
      "metadata": {
        "id": "wQ59HFPxK6Om"
      },
      "execution_count": null,
      "outputs": []
    },
    {
      "cell_type": "markdown",
      "source": [
        " 3. What are pre-defined keywords in Python?\n",
        "\n",
        " Ans 3. In Python, pre-defined keywords (also called reserved words) are special words that have a fixed meaning and cannot be used as variable names, function names, or identifiers. These keywords are an integral part of Python’s syntax and serve specific purposes, such as defining loops, conditions, functions, and more. Python has more than 35 reserved keywords. For example-\n",
        " 1. Control Flow Keywords\n",
        "if, elif, else -Conditional statements\n",
        "\n",
        "for, while, break, continue - Loop control\n",
        "\n",
        "\n",
        "2. Function and Class Definition\n",
        "def- Defines a function\n",
        "\n",
        "return - Returns a value from a function\n",
        "\n",
        "lambda-Defines an anonymous function\n",
        "\n",
        "\n",
        "\n"
      ],
      "metadata": {
        "id": "xxculvLvLg20"
      }
    },
    {
      "cell_type": "code",
      "source": [
        "def greet(name):\n",
        "    if name:\n",
        "        return f\"Hello, {name}!\"\n",
        "    else:\n",
        "        return \"Hello, World!\"\n",
        "\n",
        "print(greet(\"Alice\"))  # Output: Hello, Alice!\n"
      ],
      "metadata": {
        "id": "i8UoCqqNManr"
      },
      "execution_count": null,
      "outputs": []
    },
    {
      "cell_type": "markdown",
      "source": [
        "4. Can keywords be used as variable names?\n",
        "\n",
        "Ans 4.  No, keywords cannot be used as variable names in Python. Since they have predefined meanings, using them as variable names will result in a SyntaxError.\n",
        "\n"
      ],
      "metadata": {
        "id": "xMMzXfC8MQIs"
      }
    },
    {
      "cell_type": "markdown",
      "source": [
        "5.  What is mutability in Python ?\n",
        "\n",
        "Ans 5. Mutability in Python refers to whether an object's value can be changed after it is created.\n",
        "\n",
        "Mutable objects - Can be modified after creation.\n",
        "These objects allow modifications in place, meaning their contents can be updated without changing their memory location.\n",
        "\n",
        "Examples of Mutable Objects:\n",
        "\n",
        "\n",
        "\n"
      ],
      "metadata": {
        "id": "UoBDAiwqNk8q"
      }
    },
    {
      "cell_type": "code",
      "source": [
        "list\n",
        "numbers = [1, 2, 3]\n",
        "print(\"Before modification:\", numbers)\n",
        "\n",
        "numbers[0] = 100  # Modifying the first element\n",
        "print(\"After modification:\", numbers)\n",
        "\n",
        "Before modification: [1, 2, 3]\n",
        "After modification: [100, 2, 3]\n",
        "\n"
      ],
      "metadata": {
        "id": "Y3o_2hDPO71r"
      },
      "execution_count": null,
      "outputs": []
    },
    {
      "cell_type": "markdown",
      "source": [
        "6.  Why are lists mutable, but tuples are immutable?\n",
        "\n",
        "Ans 6. Lists in Python are mutable, meaning their elements can be modified, added, or removed after creation. This is because lists store references to their elements, allowing in-place modifications without changing their memory address. On the other hand, tuples are immutable, meaning once they are created, their elements cannot be altered. This immutability makes tuples faster and more memory-efficient than lists since they do not require extra memory for modifications. Python optimizes tuples for performance and safety, making them useful in scenarios where data should remain constant, such as dictionary keys or fixed configurations. Lists, however, are preferred when the data is dynamic and needs frequent updates. The key difference lies in how Python manages memory and performance, with tuples being more efficient for read-only operations and lists being flexible for data manipulation.\n",
        "\n"
      ],
      "metadata": {
        "id": "YX7xACwhPE5c"
      }
    },
    {
      "cell_type": "code",
      "source": [
        "my_list = [1, 2, 3]\n",
        "print(\"Before modification:\", my_list)\n",
        "\n",
        "my_list[0] = 100  # Changing an element\n",
        "my_list.append(4)  # Adding an element\n",
        "print(\"After modification:\", my_list)\n",
        "\n",
        "Before modification: [1, 2, 3]\n",
        "After modification: [100, 2, 3, 4]\n",
        "\n",
        "\n",
        "my_tuple = (1, 2, 3)\n",
        "print(\"Before modification:\", my_tuple)\n",
        "\n",
        "my_tuple[0] = 100  #This will cause an error\n",
        "\n",
        "TypeError: 'tuple' object does not support item assignment\n",
        "\n",
        "\n"
      ],
      "metadata": {
        "id": "MKWZyEkAR5Eg"
      },
      "execution_count": null,
      "outputs": []
    },
    {
      "cell_type": "markdown",
      "source": [
        "7. What is the difference between “==” and “is” operators in Python?\n",
        "\n",
        "Ans 7. In Python, the '==' operator is used to compare the values of two objects, checking if they contain the same data, while the 'is' operator checks whether two objects refer to the same memory location**. This means that even if two different objects have identical values, '==' will return 'True', but 'is will return 'False' unless both variables point to the exact same object in memory. For example, two separate lists with identical elements will be considered equal using '==', but 'is' will return 'False' because they are stored at different memory addresses. However, for immutable objects like small integers and short strings, Python optimizes memory usage by caching certain values, so variables with the same immutable value might point to the same memory location, making 'is' return 'True'. Understanding the difference is important to avoid unexpected behavior, especially when working with mutable data types like lists and dictionaries.\n"
      ],
      "metadata": {
        "id": "xCu5qttfSJLo"
      }
    },
    {
      "cell_type": "code",
      "source": [
        "a = [1, 2, 3]\n",
        "b = [1, 2, 3]\n",
        "\n",
        "print(a == b)  # True (same values)\n",
        "print(a is b)  # False (different memory locations)\n"
      ],
      "metadata": {
        "id": "gq_6Ttd8TFs2"
      },
      "execution_count": null,
      "outputs": []
    },
    {
      "cell_type": "markdown",
      "source": [
        "8.  What are logical operators in Python?\n",
        "\n",
        "Ans 8. Logical operators in Python are used to perform Boolean logic operations, allowing multiple conditions to be evaluated together. There are three logical operators: 'and', 'or', and 'not'. The 'and' operator returns 'True' only if 'both conditions'are 'True'; otherwise, it returns 'False'. The 'or' operator returns 'True'if at least one condition is 'True', and it returns 'False' only when both conditions are 'False'. The 'not' operator negates the Boolean value, converting 'True' to 'False' and 'False' to 'True'. These logical operators are commonly used in decision-making structures like 'if' statements and loops, enabling efficient control flow in programs. For example, in an authentication system, 'and' can be used to check if both a username and password are correct, while 'or' can allow access if at least one security condition is met. Understanding logical operators is crucial for writing complex conditional statements in Python.\n"
      ],
      "metadata": {
        "id": "NoA0Q6o6TLcW"
      }
    },
    {
      "cell_type": "code",
      "source": [
        "username = \"admin\"\n",
        "password = \"password123\"\n",
        "\n",
        "# User input (for example, through a form)\n",
        "input_username = \"admin\"\n",
        "input_password = \"password123\"\n",
        "\n",
        "# Using logical operators to check if both username and password are correct\n",
        "if input_username == username and input_password == password:\n",
        "    print(\"Login Successful!\")\n",
        "else:\n",
        "    print(\"Login Failed!\")\n"
      ],
      "metadata": {
        "id": "GBlXhFWvWKPG"
      },
      "execution_count": null,
      "outputs": []
    },
    {
      "cell_type": "markdown",
      "source": [
        "9. What is type casting in Python?\n",
        "\n",
        "Ans 9. Type casting in Python refers to the process of converting one data type into another. It is used when we need to change the type of a variable to perform operations that require a specific data type. Python provides two types of type casting: implicit type casting (automatic conversion by Python) and explicit type casting (manual conversion by the programmer).\n",
        "\n"
      ],
      "metadata": {
        "id": "1GP7-NzwWOsH"
      }
    },
    {
      "cell_type": "markdown",
      "source": [
        "10.  What is the difference between implicit and explicit type casting?\n",
        "\n",
        "Ans 10. Implicit Type Casting (Automatic Conversion)\n",
        "Python automatically converts smaller data types into larger ones to avoid data loss.\n",
        "\n",
        "🔹 Example:\n"
      ],
      "metadata": {
        "id": "5oO7mHM0WrYX"
      }
    },
    {
      "cell_type": "code",
      "source": [
        "a = 5       # Integer\n",
        "b = 2.5     # Float\n",
        "c = a + b   # Python automatically converts 'a' to float\n",
        "\n",
        "print(c)    # Output: 7.5\n",
        "print(type(c))  # Output: <class 'float'>\n",
        "#Here, Python automatically converts a (integer) to a float to match b, ensuring smooth mathematical operations.\n",
        "\n",
        "Explicit Type Casting (Manual Conversion)\n",
        "In explicit type casting, the programmer manually converts a variable from one type to another using functions like:\n",
        "\n",
        "int() - Converts to an integer\n",
        "\n",
        "float() - Converts to a floating-point number\n",
        "\n",
        "str() -Converts to a string\n",
        "\n",
        "list(), tuple(), set() - Converts to respective collections\n",
        "\n",
        "🔹 Example:x = \"100\"  # String\n",
        "y = int(x)  # Manually converting string to integer\n",
        "\n",
        "print(y + 50)  # Output: 150\n",
        "print(type(y))  # Output: <class 'int'>\n"
      ],
      "metadata": {
        "id": "s6BXv8T2W7-b"
      },
      "execution_count": null,
      "outputs": []
    },
    {
      "cell_type": "markdown",
      "source": [
        "11. What is the purpose of conditional statements in Python?\n",
        "\n",
        "Ans 11. Conditional statements in Python are used to control the flow of execution based on certain conditions. They allow a program to make decisions by executing different blocks of code depending on whether a condition evaluates to True or False. This helps in decision-making, automation, and logical operations in a program.\n",
        "\n",
        "Key Purposes of Conditional Statements:\n",
        "Decision-Making: Enables a program to take different actions based on conditions.\n",
        "\n",
        "Control Flow: Allows selective execution of code instead of running everything sequentially.\n",
        "\n",
        "Automation: Helps automate processes like login validation, form submissions, and filtering data.\n",
        "\n",
        "Error Handling: Prevents incorrect operations by checking conditions before execution.\n"
      ],
      "metadata": {
        "id": "M4NjyUQFXVXS"
      }
    },
    {
      "cell_type": "code",
      "source": [
        "example-\n",
        "age = 18\n",
        "\n",
        "if age >= 18:\n",
        "    print(\"You are eligible to vote.\")  # Executes if the condition is True\n",
        "else:\n",
        "    print(\"You are not eligible to vote.\")  # Executes if the condition is False\n"
      ],
      "metadata": {
        "id": "32mT2MLdXnKM"
      },
      "execution_count": null,
      "outputs": []
    },
    {
      "cell_type": "markdown",
      "source": [
        "12.  How does the elif statement work?\n",
        "\n",
        "Ans 12. The elif (short for \"else if\") statement in Python is used to check multiple conditions sequentially. It allows a program to evaluate multiple alternative conditions and execute the corresponding block of code when a condition is met.\n",
        "\n",
        "The program starts by checking the first if condition.\n",
        "\n",
        "If True, the corresponding block executes, and the rest of the conditions are ignored.\n",
        "\n",
        "If False, the program moves to the elif condition and checks it.\n",
        "\n",
        "If an elif condition is True, its block executes, and further checks are skipped.\n",
        "\n",
        "If none of the conditions are True, the else block (if present) executes as the default case.\n",
        "\n"
      ],
      "metadata": {
        "id": "8kzicHm_XwPk"
      }
    },
    {
      "cell_type": "code",
      "source": [
        "score = 75\n",
        "\n",
        "if score >= 90:\n",
        "    print(\"Grade: A\")\n",
        "elif score >= 80:\n",
        "    print(\"Grade: B\")\n",
        "elif score >= 70:\n",
        "    print(\"Grade: C\")\n",
        "elif score >= 60:\n",
        "    print(\"Grade: D\")\n",
        "else:\n",
        "    print(\"Grade: F\")\n",
        "# The program checks if score >= 90. Since score = 75, this is False, so it moves to the next condition.\n",
        "\n",
        "# The program checks elif score >= 80. This is also False, so it moves to the next elif.\n",
        "\n",
        "# The condition elif score >= 70 is True, so \"Grade: C\" is printed, and the program exits the conditional structure without checking further conditions.\n",
        "\n",
        "# If none of the conditions were True, the else block would execute."
      ],
      "metadata": {
        "id": "_m5J1xeFYBst"
      },
      "execution_count": null,
      "outputs": []
    },
    {
      "cell_type": "markdown",
      "source": [
        "13.  What is the difference between for and while loops?\n",
        "\n",
        "Ans 13. In Python, both 'for' and 'while' loops are used for iteration, but they differ in their approach and use cases. A 'for' loop is typically used when the number of iterations is known in advance, such as when iterating over a sequence like a list, tuple, or range. It provides a controlled way to execute a block of code a fixed number of times. On the other hand, a while' loop is used when the number of iterations is not predetermined and depends on a condition being met. The loop continues executing as long as the condition remains 'True'. This makes 'while' loops useful for cases where iteration depends on user input, external events, or dynamically changing conditions. While 'for' loops are less prone to infinite execution since they run on predefined sequences, 'while' loops require careful condition handling to avoid infinite loops. In summary, 'for' loops are best for iterating over collections or fixed ranges, while 'while' loops are ideal for condition-based repetition where the number of iterations is unknown.\n",
        "\n"
      ],
      "metadata": {
        "id": "9wfBL-ugYLrV"
      }
    },
    {
      "cell_type": "code",
      "source": [
        "for i in range(5):  # Runs exactly 5 times (0 to 4)\n",
        "    print(\"Iteration:\", i)\n",
        "Iteration: 0\n",
        "Iteration: 1\n",
        "Iteration: 2\n",
        "Iteration: 3\n",
        "Iteration: 4\n",
        "#Here, the loop runs five times since range(5) defines a fixed iteration count.\n",
        "\n",
        "\n",
        "count = 0\n",
        "while count < 5:  # Runs until count reaches 5\n",
        "    print(\"Iteration:\", count)\n",
        "    count += 1  # Increment count to avoid infinite loop\n",
        "Iteration: 0\n",
        "Iteration: 1\n",
        "Iteration: 2\n",
        "Iteration: 3\n",
        "Iteration: 4\n",
        "#Here, the loop continues running until count < 5 is no longer True."
      ],
      "metadata": {
        "id": "JsZcQEfCY9dR"
      },
      "execution_count": null,
      "outputs": []
    },
    {
      "cell_type": "markdown",
      "source": [
        "14.  Describe a scenario where a while loop is more suitable than a for loop.\n",
        "\n",
        "Ans 14. A while loop is more suitable than a for loop in scenarios where the number of iterations is not known beforehand and depends on a condition being met dynamically.\n",
        "\n",
        "Scenario: User Input Validation\n",
        "Consider a program that asks the user to enter a valid password. Since the user may enter the correct password immediately or after multiple attempts, a while loop is ideal because the number of iterations is unknown in advance."
      ],
      "metadata": {
        "id": "BZFOdD7CZMma"
      }
    },
    {
      "cell_type": "code",
      "source": [
        "correct_password = \"secure123\"\n",
        "user_input = \"\"\n",
        "\n",
        "while user_input != correct_password:  # Loop until the correct password is entered\n",
        "    user_input = input(\"Enter the password: \")\n",
        "    if user_input != correct_password:\n",
        "        print(\"Incorrect password. Try again.\")\n",
        "\n",
        "print(\"Access granted!\")\n",
        "# In this case, we don't know how many times the user will enter the wrong password.\n",
        "\n",
        "# A for loop is unsuitable because it runs for a fixed number of times, whereas the while loop continues until the condition is met.\n",
        "\n",
        "# If the user enters the correct password on the first attempt, the loop executes only once, making it efficient."
      ],
      "metadata": {
        "id": "L90r3VjQZV_6"
      },
      "execution_count": null,
      "outputs": []
    },
    {
      "cell_type": "markdown",
      "source": [
        "#PRACTICAL QUESTIONS\n"
      ],
      "metadata": {
        "id": "MpLDbAKgxQur"
      }
    },
    {
      "cell_type": "markdown",
      "source": [
        "\n",
        "\n",
        "\n",
        "\n",
        "\n",
        "\n",
        "\n",
        "\n",
        "\n",
        "\n"
      ],
      "metadata": {
        "id": "skmz6woSxUBb"
      }
    },
    {
      "cell_type": "code",
      "source": [
        "# 1.  Write a Python program to print \"Hello, World!\n",
        "\n",
        "a=\"Hello, World!\"\n",
        "print(a)"
      ],
      "metadata": {
        "id": "NFHXFNTsxffK",
        "colab": {
          "base_uri": "https://localhost:8080/"
        },
        "outputId": "f0c57fd5-66b2-454e-fa3f-caa40003effa"
      },
      "execution_count": 2,
      "outputs": [
        {
          "output_type": "stream",
          "name": "stdout",
          "text": [
            "Hello, World!\n"
          ]
        }
      ]
    },
    {
      "cell_type": "code",
      "source": [
        "#2.  Write a Python program that displays your name and age\n",
        "name= \" Md Mustahidul Islam\"\n",
        "age= \"24\"\n",
        "print(name)\n",
        "print(age)"
      ],
      "metadata": {
        "id": "2bZPZUftxt4j",
        "colab": {
          "base_uri": "https://localhost:8080/"
        },
        "outputId": "30fe8374-e388-455f-c5b7-c69e895621c3"
      },
      "execution_count": 1,
      "outputs": [
        {
          "output_type": "stream",
          "name": "stdout",
          "text": [
            " Md Mustahidul Islam\n",
            "24\n"
          ]
        }
      ]
    },
    {
      "cell_type": "code",
      "source": [],
      "metadata": {
        "id": "2dLbmwY9Yitg"
      },
      "execution_count": null,
      "outputs": []
    },
    {
      "cell_type": "code",
      "source": [
        "#3. Write code to print all the pre-defined keywords in Python using the keyword library\n",
        "import keyword\n",
        "\n",
        "\n",
        "keywords_list = keyword.kwlist\n",
        "\n",
        "# Print all the keywords\n",
        "print(\"Python Predefined Keywords:\")\n",
        "for kw in keywords_list:\n",
        "    print(kw)\n"
      ],
      "metadata": {
        "colab": {
          "base_uri": "https://localhost:8080/"
        },
        "id": "dotHAJsYYsIF",
        "outputId": "02d48dad-a3bc-48ca-d042-061d87d4c589"
      },
      "execution_count": 2,
      "outputs": [
        {
          "output_type": "stream",
          "name": "stdout",
          "text": [
            "Python Predefined Keywords:\n",
            "False\n",
            "None\n",
            "True\n",
            "and\n",
            "as\n",
            "assert\n",
            "async\n",
            "await\n",
            "break\n",
            "class\n",
            "continue\n",
            "def\n",
            "del\n",
            "elif\n",
            "else\n",
            "except\n",
            "finally\n",
            "for\n",
            "from\n",
            "global\n",
            "if\n",
            "import\n",
            "in\n",
            "is\n",
            "lambda\n",
            "nonlocal\n",
            "not\n",
            "or\n",
            "pass\n",
            "raise\n",
            "return\n",
            "try\n",
            "while\n",
            "with\n",
            "yield\n"
          ]
        }
      ]
    },
    {
      "cell_type": "code",
      "source": [
        "#4.  Write a program that checks if a given word is a Python keyword.\n",
        "import keyword\n",
        "\n",
        "# Function to check if a word is a Python keyword\n",
        "def check_keyword(word):\n",
        "    if keyword.iskeyword(word):\n",
        "        print(f\"'{word}' is a Python keyword.\")\n",
        "    else:\n",
        "        print(f\"'{word}' is NOT a Python keyword.\")\n",
        "\n",
        "# Take user input\n",
        "word = input(\"Enter a word to check: \")\n",
        "\n",
        "# Check if it's a keyword\n",
        "check_keyword(word)\n"
      ],
      "metadata": {
        "id": "SfTB24kpY60f"
      },
      "execution_count": null,
      "outputs": []
    },
    {
      "cell_type": "code",
      "source": [
        "#5. Create a list and tuple in Python, and demonstrate how attempting to change an element works differently for each.\n",
        "# Creating a list (mutable)\n",
        "my_list = [10, 20, 30, 40]\n",
        "print(\"Original List:\", my_list)\n",
        "\n",
        "# Modifying an element in the list\n",
        "my_list[1] = 25\n",
        "print(\"Modified List:\", my_list)  # Successfully changes the second element\n",
        "\n",
        "# Creating a tuple (immutable)\n",
        "my_tuple = (10, 20, 30, 40)\n",
        "print(\"\\nOriginal Tuple:\", my_tuple)\n",
        "\n",
        "# Attempting to modify an element in the tuple\n",
        "try:\n",
        "    my_tuple[1] = 25  # This will raise an error\n",
        "except TypeError as e:\n",
        "    print(\"Error:\", e)\n"
      ],
      "metadata": {
        "colab": {
          "base_uri": "https://localhost:8080/"
        },
        "id": "WzdwzaeWZWOQ",
        "outputId": "211a9c78-21f2-45ce-8313-d68939c2802d"
      },
      "execution_count": 3,
      "outputs": [
        {
          "output_type": "stream",
          "name": "stdout",
          "text": [
            "Original List: [10, 20, 30, 40]\n",
            "Modified List: [10, 25, 30, 40]\n",
            "\n",
            "Original Tuple: (10, 20, 30, 40)\n",
            "Error: 'tuple' object does not support item assignment\n"
          ]
        }
      ]
    },
    {
      "cell_type": "code",
      "source": [],
      "metadata": {
        "id": "BegylD6YZwcV"
      },
      "execution_count": null,
      "outputs": []
    },
    {
      "cell_type": "code",
      "source": [
        "# 6. Write a function to demonstrate the behavior of mutable and immutable arguments.\n",
        "# Function to demonstrate mutable and immutable behavior\n",
        "def modify_data(immutable_var, mutable_var):\n",
        "    # Attempt to modify the immutable variable (integer)\n",
        "    immutable_var += 10\n",
        "    print(\"Inside function (immutable):\", immutable_var)\n",
        "\n",
        "    # Modify the mutable variable (list)\n",
        "    mutable_var.append(50)\n",
        "    print(\"Inside function (mutable):\", mutable_var)\n",
        "\n",
        "# Immutable argument (integer)\n",
        "num = 100\n",
        "# Mutable argument (list)\n",
        "numbers_list = [10, 20, 30, 40]\n",
        "\n",
        "# Print original values\n",
        "print(\"Before function call:\")\n",
        "print(\"Immutable:\", num)\n",
        "print(\"Mutable:\", numbers_list)\n",
        "\n",
        "# Call function\n",
        "modify_data(num, numbers_list)\n",
        "\n",
        "# Print values after function call\n",
        "print(\"\\nAfter function call:\")\n",
        "print(\"Immutable:\", num)  # Unchanged\n",
        "print(\"Mutable:\", numbers_list)  # Modified\n"
      ],
      "metadata": {
        "colab": {
          "base_uri": "https://localhost:8080/"
        },
        "id": "kzr5wCRHZ5ir",
        "outputId": "22fe1e22-9f3d-40bf-eced-2857bcce6bad"
      },
      "execution_count": 4,
      "outputs": [
        {
          "output_type": "stream",
          "name": "stdout",
          "text": [
            "Before function call:\n",
            "Immutable: 100\n",
            "Mutable: [10, 20, 30, 40]\n",
            "Inside function (immutable): 110\n",
            "Inside function (mutable): [10, 20, 30, 40, 50]\n",
            "\n",
            "After function call:\n",
            "Immutable: 100\n",
            "Mutable: [10, 20, 30, 40, 50]\n"
          ]
        }
      ]
    },
    {
      "cell_type": "code",
      "source": [],
      "metadata": {
        "id": "vJAVCBGZaHGp"
      },
      "execution_count": null,
      "outputs": []
    },
    {
      "cell_type": "code",
      "source": [
        " #7. Write a program that performs basic arithmetic operations on two user-input numbers.\n",
        " # Take input from the user\n",
        "num1 = float(input(\"Enter the first number: \"))\n",
        "num2 = float(input(\"Enter the second number: \"))\n",
        "\n",
        "# Perform arithmetic operations\n",
        "addition = num1 + num2\n",
        "subtraction = num1 - num2\n",
        "multiplication = num1 * num2\n",
        "division = num1 / num2 if num2 != 0 else \"Undefined (division by zero)\"\n",
        "\n",
        "# Display results\n",
        "print(\"\\nResults:\")\n",
        "print(f\"Addition: {num1} + {num2} = {addition}\")\n",
        "print(f\"Subtraction: {num1} - {num2} = {subtraction}\")\n",
        "print(f\"Multiplication: {num1} * {num2} = {multiplication}\")\n",
        "print(f\"Division: {num1} / {num2} = {division}\")\n"
      ],
      "metadata": {
        "colab": {
          "base_uri": "https://localhost:8080/"
        },
        "id": "Cur-ZNtDaOyM",
        "outputId": "3ab0cef6-f23b-4b46-9a24-e3d910034b5e"
      },
      "execution_count": 5,
      "outputs": [
        {
          "output_type": "stream",
          "name": "stdout",
          "text": [
            "Enter the first number: 2.3\n",
            "Enter the second number: 4.5\n",
            "\n",
            "Results:\n",
            "Addition: 2.3 + 4.5 = 6.8\n",
            "Subtraction: 2.3 - 4.5 = -2.2\n",
            "Multiplication: 2.3 * 4.5 = 10.35\n",
            "Division: 2.3 / 4.5 = 0.5111111111111111\n"
          ]
        }
      ]
    },
    {
      "cell_type": "code",
      "source": [],
      "metadata": {
        "id": "7OJG79ImaXAn"
      },
      "execution_count": null,
      "outputs": []
    },
    {
      "cell_type": "code",
      "source": [
        "#8. Write a program to demonstrate the use of logical operators.\n",
        "# Taking user input\n",
        "num1 = int(input(\"Enter first number: \"))\n",
        "num2 = int(input(\"Enter second number: \"))\n",
        "\n",
        "# Logical 'and' operator\n",
        "if num1 > 0 and num2 > 0:\n",
        "    print(\"Both numbers are positive.\")\n",
        "\n",
        "# Logical 'or' operator\n",
        "if num1 % 2 == 0 or num2 % 2 == 0:\n",
        "    print(\"At least one of the numbers is even.\")\n",
        "\n",
        "# Logical 'not' operator\n",
        "if not (num1 < 0 or num2 < 0):\n",
        "    print(\"Neither of the numbers is negative.\")\n",
        "else:\n",
        "    print(\"At least one of the numbers is negative.\")\n"
      ],
      "metadata": {
        "colab": {
          "base_uri": "https://localhost:8080/"
        },
        "id": "2PkOJDIlaifp",
        "outputId": "a39e1d90-6229-469a-b463-bdca93977b59"
      },
      "execution_count": 6,
      "outputs": [
        {
          "output_type": "stream",
          "name": "stdout",
          "text": [
            "Enter first number: 23\n",
            "Enter second number: 89\n",
            "Both numbers are positive.\n",
            "Neither of the numbers is negative.\n"
          ]
        }
      ]
    },
    {
      "cell_type": "code",
      "source": [],
      "metadata": {
        "id": "OUtxpeGKatgo"
      },
      "execution_count": null,
      "outputs": []
    },
    {
      "cell_type": "code",
      "source": [
        "#9. Write a Python program to convert user input from string to integer, float, and boolean types.\n",
        "# Taking user input as a string\n",
        "user_input = input(\"Enter a value: \")\n",
        "\n",
        "# Converting to integer\n",
        "try:\n",
        "    int_value = int(user_input)\n",
        "    print(f\"Integer conversion: {int_value}\")\n",
        "except ValueError:\n",
        "    print(\"Cannot convert to integer.\")\n",
        "\n",
        "# Converting to float\n",
        "try:\n",
        "    float_value = float(user_input)\n",
        "    print(f\"Float conversion: {float_value}\")\n",
        "except ValueError:\n",
        "    print(\"Cannot convert to float.\")\n",
        "\n",
        "# Converting to boolean\n",
        "bool_value = bool(user_input)  # Empty string = False, non-empty string = True\n",
        "print(f\"Boolean conversion: {bool_value}\")\n"
      ],
      "metadata": {
        "colab": {
          "base_uri": "https://localhost:8080/"
        },
        "id": "OfiPCUCga0qV",
        "outputId": "96c57716-af34-4679-9683-03a0372cff04"
      },
      "execution_count": 7,
      "outputs": [
        {
          "output_type": "stream",
          "name": "stdout",
          "text": [
            "Enter a value: 12\n",
            "Integer conversion: 12\n",
            "Float conversion: 12.0\n",
            "Boolean conversion: True\n"
          ]
        }
      ]
    },
    {
      "cell_type": "code",
      "source": [
        "# 10. Write code to demonstrate type casting with list elements.\n",
        "# Creating a list with mixed data types\n",
        "mixed_list = [\"10\", \"20.5\", \"30\", \"True\", \"False\"]\n",
        "\n",
        "# Converting elements to different types\n",
        "int_list = [int(x) for x in mixed_list if x.isdigit()]  # Convert numeric strings to integers\n",
        "float_list = [float(x) for x in mixed_list if x.replace('.', '', 1).isdigit()]  # Convert to float\n",
        "bool_list = [x.lower() == \"true\" for x in mixed_list]  # Convert to boolean\n",
        "\n",
        "# Printing results\n",
        "print(\"Original List:\", mixed_list)\n",
        "print(\"Integer List:\", int_list)\n",
        "print(\"Float List:\", float_list)\n",
        "print(\"Boolean List:\", bool_list)\n"
      ],
      "metadata": {
        "colab": {
          "base_uri": "https://localhost:8080/"
        },
        "id": "I6d4qeZna-GG",
        "outputId": "086f91a9-c33b-48e3-f51d-83a208e5afb4"
      },
      "execution_count": 8,
      "outputs": [
        {
          "output_type": "stream",
          "name": "stdout",
          "text": [
            "Original List: ['10', '20.5', '30', 'True', 'False']\n",
            "Integer List: [10, 30]\n",
            "Float List: [10.0, 20.5, 30.0]\n",
            "Boolean List: [False, False, False, True, False]\n"
          ]
        }
      ]
    },
    {
      "cell_type": "markdown",
      "source": [
        "\n",
        "\n"
      ],
      "metadata": {
        "id": "L4QA1ptmbv8V"
      }
    },
    {
      "cell_type": "code",
      "source": [],
      "metadata": {
        "id": "b0WRh-S1bWVj"
      },
      "execution_count": null,
      "outputs": []
    },
    {
      "cell_type": "code",
      "source": [
        "# 11. Write a program that checks if a number is positive, negative, or zero.\n",
        "# Taking user input\n",
        "num = float(input(\"Enter a number: \"))\n",
        "\n",
        "# Checking the condition\n",
        "if num > 0:\n",
        "    print(\"The number is positive.\")\n",
        "elif num < 0:\n",
        "    print(\"The number is negative.\")\n",
        "else:\n",
        "    print(\"The number is zero.\")\n"
      ],
      "metadata": {
        "colab": {
          "base_uri": "https://localhost:8080/"
        },
        "id": "rd6kNOU6bxvm",
        "outputId": "a5230c54-60ec-4f69-c0f1-713aabb00159"
      },
      "execution_count": 9,
      "outputs": [
        {
          "output_type": "stream",
          "name": "stdout",
          "text": [
            "Enter a number: 2\n",
            "The number is positive.\n"
          ]
        }
      ]
    },
    {
      "cell_type": "code",
      "source": [
        "#  12. Write a for loop to print numbers from 1 to 10.\n",
        "# Using a for loop to print numbers from 1 to 10\n",
        "for num in range(1, 11):\n",
        "    print(num)\n"
      ],
      "metadata": {
        "colab": {
          "base_uri": "https://localhost:8080/"
        },
        "id": "1Ci-ntMib4Kq",
        "outputId": "e1c0ea31-7416-454b-9176-f73a6f18f027"
      },
      "execution_count": 10,
      "outputs": [
        {
          "output_type": "stream",
          "name": "stdout",
          "text": [
            "1\n",
            "2\n",
            "3\n",
            "4\n",
            "5\n",
            "6\n",
            "7\n",
            "8\n",
            "9\n",
            "10\n"
          ]
        }
      ]
    },
    {
      "cell_type": "code",
      "source": [
        "# 13. Write a Python program to find the sum of all even numbers between 1 and 50.\n",
        "# Initialize sum variable\n",
        "even_sum = 0\n",
        "\n",
        "# Loop through numbers from 1 to 50\n",
        "for num in range(1, 51):\n",
        "    if num % 2 == 0:  # Check if the number is even\n",
        "        even_sum += num  # Add to sum\n",
        "\n",
        "# Print the result\n",
        "print(\"Sum of all even numbers between 1 and 50:\", even_sum)\n"
      ],
      "metadata": {
        "colab": {
          "base_uri": "https://localhost:8080/"
        },
        "id": "x006Fr1VcCjI",
        "outputId": "59934be9-5b34-420d-f40f-57cd8bda4f69"
      },
      "execution_count": 11,
      "outputs": [
        {
          "output_type": "stream",
          "name": "stdout",
          "text": [
            "Sum of all even numbers between 1 and 50: 650\n"
          ]
        }
      ]
    },
    {
      "cell_type": "code",
      "source": [
        "# 14. Write a program to reverse a string using a while loop.\n",
        "\n",
        "string = input(\"Enter a string: \")\n",
        "\n",
        "# Initialize an empty string to store the reversed result\n",
        "reversed_string = \"\"\n",
        "\n",
        "# Get the length of the string\n",
        "index = len(string) - 1\n",
        "\n",
        "# Loop to reverse the string\n",
        "while index >= 0:\n",
        "    reversed_string += string[index]  # Add the character in reverse order\n",
        "    index -= 1  # Move to the previous character\n",
        "\n",
        "# Print the reversed string\n",
        "print(\"Reversed string:\", reversed_string)\n"
      ],
      "metadata": {
        "id": "Aou6LiJfcO09"
      },
      "execution_count": null,
      "outputs": []
    },
    {
      "cell_type": "code",
      "source": [
        "# 15. Write a Python program to calculate the factorial of a number provided by the user using a while loop.\n",
        "# Taking user input\n",
        "num = int(input(\"Enter a number: \"))\n",
        "\n",
        "# Initialize factorial variable\n",
        "factorial = 1\n",
        "\n",
        "# Initialize counter\n",
        "i = num\n",
        "\n",
        "# While loop to calculate factorial\n",
        "while i > 0:\n",
        "    factorial *= i  # Multiply factorial by the current number\n",
        "    i -= 1  # Decrease the counter\n",
        "\n",
        "# Print the result\n",
        "print(f\"Factorial of {num} is {factorial}\")\n"
      ],
      "metadata": {
        "colab": {
          "base_uri": "https://localhost:8080/"
        },
        "id": "BwCsxX5ececR",
        "outputId": "6bf743f7-cffa-464f-aeba-bcdf0d827f35"
      },
      "execution_count": 12,
      "outputs": [
        {
          "output_type": "stream",
          "name": "stdout",
          "text": [
            "Enter a number: 34\n",
            "Factorial of 34 is 295232799039604140847618609643520000000\n"
          ]
        }
      ]
    },
    {
      "cell_type": "code",
      "source": [],
      "metadata": {
        "id": "F52G-c9_cp0R"
      },
      "execution_count": null,
      "outputs": []
    }
  ]
}